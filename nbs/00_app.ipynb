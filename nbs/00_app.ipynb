{
 "cells": [
  {
   "cell_type": "markdown",
   "metadata": {},
   "source": [
    "# app\n",
    "\n",
    "> Fill in a module description here"
   ]
  },
  {
   "cell_type": "code",
   "execution_count": 1,
   "metadata": {},
   "outputs": [],
   "source": [
    "#| default_exp app"
   ]
  },
  {
   "cell_type": "code",
   "execution_count": 2,
   "metadata": {},
   "outputs": [],
   "source": [
    "#| hide\n",
    "from nbdev.showdoc import *"
   ]
  },
  {
   "cell_type": "code",
   "execution_count": 3,
   "metadata": {},
   "outputs": [],
   "source": [
    "#| export\n",
    "from flask import Flask\n",
    "\n",
    "# define the flask object\n",
    "app = Flask(__name__) \n",
    "# The flask object implements a WSGI application and acts as the central object.  "
   ]
  },
  {
   "cell_type": "markdown",
   "metadata": {},
   "source": [
    "A WSGI (Web Server Gateway Interface) application is a Python application that conforms to the WSGI specification—a standardized way for web servers (e.g., Gunicorn, uWSGI, mod_wsgi) to communicate with Python web frameworks (e.g., Flask, Django). Think of WSGI as a common “handshake” or contract: the web server sends requests using a specific format, and the application returns responses using the same format. This allows Python web apps to be easily deployed on different servers without changing their internal code.\n",
    "\n",
    "\n",
    "`Flask` is passed the name of the module or package of the\n",
    "application.  Once it is created it will act as a central registry for\n",
    "the view functions, the URL rules, template configuration and much more."
   ]
  },
  {
   "cell_type": "code",
   "execution_count": 4,
   "metadata": {},
   "outputs": [],
   "source": [
    "#| export\n",
    "@app.route('/hello', methods=['GET']) # define a route\n",
    "def hello(): # route handler function\n",
    "    return \"Hello World!\" # what gets returned when request hits /hello"
   ]
  },
  {
   "cell_type": "markdown",
   "metadata": {},
   "source": [
    "Define a route (`@app.route('/hello', methods=['GET'])`)\n",
    "\n",
    "This decorator tells Flask: “When the server receives an HTTP GET request to the path /hello, call the function that follows.”\n",
    "\n",
    "The methods=['GET'] part restricts the route to only respond to GET requests (though you could allow more methods like POST, etc.)."
   ]
  },
  {
   "cell_type": "markdown",
   "metadata": {},
   "source": [
    "Define the route handler function (hello())\n",
    "\n",
    "The hello() function contains the logic that executes whenever a request hits /hello. In this simple example, it just returns the text \"Hello World!\"."
   ]
  },
  {
   "cell_type": "code",
   "execution_count": null,
   "metadata": {},
   "outputs": [
    {
     "name": "stdout",
     "output_type": "stream",
     "text": [
      " * Serving Flask app '__main__'\n",
      " * Debug mode: off\n"
     ]
    },
    {
     "name": "stderr",
     "output_type": "stream",
     "text": [
      "\u001b[31m\u001b[1mWARNING: This is a development server. Do not use it in a production deployment. Use a production WSGI server instead.\u001b[0m\n",
      " * Running on http://127.0.0.1:5000\n",
      "\u001b[33mPress CTRL+C to quit\u001b[0m\n",
      "127.0.0.1 - - [03/Apr/2025 05:36:30] \"GET /hello HTTP/1.1\" 200 -\n",
      "127.0.0.1 - - [03/Apr/2025 05:36:52] \"GET /hello HTTP/1.1\" 200 -\n"
     ]
    }
   ],
   "source": [
    "app.run()\n",
    "\n",
    "# app.run(debug=True, port=5000)\n",
    "# app.run(debug=False, use_reloader=False, port=5000)"
   ]
  },
  {
   "cell_type": "markdown",
   "metadata": {},
   "source": [
    " you can visit http://localhost:5000/hello (or whichever host/port your app is configured to run on). The server sees a GET request to /hello, calls the hello() function, and sends back “Hello World!” as the response."
   ]
  },
  {
   "cell_type": "code",
   "execution_count": null,
   "metadata": {},
   "outputs": [],
   "source": [
    "#| hide\n",
    "import nbdev; nbdev.nbdev_export()"
   ]
  }
 ],
 "metadata": {
  "kernelspec": {
   "display_name": "Python 3 (ipykernel)",
   "language": "python",
   "name": "python3"
  },
  "language_info": {
   "codemirror_mode": {
    "name": "ipython",
    "version": 3
   },
   "file_extension": ".py",
   "mimetype": "text/x-python",
   "name": "python",
   "nbconvert_exporter": "python",
   "pygments_lexer": "ipython3",
   "version": "3.12.9"
  }
 },
 "nbformat": 4,
 "nbformat_minor": 4
}
